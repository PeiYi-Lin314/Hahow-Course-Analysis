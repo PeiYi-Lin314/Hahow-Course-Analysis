{
 "cells": [
  {
   "cell_type": "markdown",
   "id": "6515b7bc",
   "metadata": {},
   "source": [
    "# Hahow 課程資料合併程式\n",
    "\n",
    "本程式碼會逐一讀取各課程分類下的所有分頁 CSV 檔案，並合併為單一資料集並存放在`merged_data/`資料夾。\n",
    "例如：「音樂」類別若有二頁，就會讀取 `hahow_音樂_page1.csv`、`hahow_音樂_page2.csv`，並合併後輸出成 `hahow_音樂_merged.csv`，以利後續清理。\n",
    "\n",
    "### **⚠️ 合併注意事項**\n",
    "\n",
    "- 若資料夾中缺少某頁的檔案，該分類會提早結束合併。\n",
    "- 程式會自動在每筆資料中加入「分類」欄位，方便後續分析使用。"
   ]
  },
  {
   "cell_type": "markdown",
   "id": "f20e99d0-55d1-420c-ab22-b9f0da0ecc75",
   "metadata": {},
   "source": [
    "#### 模組匯入區"
   ]
  },
  {
   "cell_type": "code",
   "execution_count": 4,
   "id": "8fe52f00-2ff0-4dbd-9a9b-88957ebb88ec",
   "metadata": {},
   "outputs": [],
   "source": [
    "import pandas as pd\n",
    "import os"
   ]
  },
  {
   "cell_type": "markdown",
   "id": "90ecade4-79f6-4e56-906b-2997dd9a8618",
   "metadata": {},
   "source": [
    "#### 程式設定區"
   ]
  },
  {
   "cell_type": "code",
   "execution_count": 5,
   "id": "a8386275",
   "metadata": {},
   "outputs": [],
   "source": [
    "# 定義課程類別與對應網址代碼\n",
    "\n",
    "course_type = {\n",
    "    \"音樂\": \"music\",\n",
    "    \"語言\": \"language\",\n",
    "    \"攝影\": \"photography\",\n",
    "    \"藝術\": \"art\",\n",
    "    \"設計\": \"design\",\n",
    "    \"人文\": \"humanities\",\n",
    "    \"行銷\": \"marketing\",\n",
    "    \"程式\": \"programming\",\n",
    "    \"投資理財\": \"finance-and-investment\",\n",
    "    \"職場技能\": \"career-skills\",\n",
    "    \"手作\": \"handmade\",\n",
    "    \"生活品味\": \"lifestyle\"\n",
    "}"
   ]
  },
  {
   "cell_type": "markdown",
   "id": "82691dfa-13bb-4df4-b474-acb40a080a32",
   "metadata": {},
   "source": [
    "#### 合併資料主程式區"
   ]
  },
  {
   "cell_type": "code",
   "execution_count": 6,
   "id": "ba5f3a51",
   "metadata": {},
   "outputs": [
    {
     "name": "stdout",
     "output_type": "stream",
     "text": [
      "已建立merged_data資料夾\n",
      "完成讀取:scraped_data/hahow_手作_page1.csv\n",
      "完成讀取:scraped_data/hahow_手作_page2.csv\n",
      "手作第3頁資料不存在，進行下一個分類...\n",
      "輸出 hahow手作合併.csv 完成\n",
      "完成讀取:scraped_data/hahow_音樂_page1.csv\n",
      "完成讀取:scraped_data/hahow_音樂_page2.csv\n",
      "音樂第3頁資料不存在，進行下一個分類...\n",
      "輸出 hahow音樂合併.csv 完成\n",
      "完成讀取:scraped_data/hahow_攝影_page1.csv\n",
      "完成讀取:scraped_data/hahow_攝影_page2.csv\n",
      "完成讀取:scraped_data/hahow_攝影_page3.csv\n",
      "完成讀取:scraped_data/hahow_攝影_page4.csv\n",
      "攝影第5頁資料不存在，進行下一個分類...\n",
      "輸出 hahow攝影合併.csv 完成\n",
      "全部分類皆合併完成!\n"
     ]
    }
   ],
   "source": [
    "# 建立合併後檔案資料夾\n",
    "folder_name = \"merged_data\"\n",
    "\n",
    "# 如果資料夾不存在就建立\n",
    "if not os.path.exists(folder_name):\n",
    "    os.makedirs(folder_name)\n",
    "    print(\"已建立merged_data資料夾\")\n",
    "\n",
    "## 開始讀取每一個分類資料，並合併成單一類別 csv\n",
    "for category_name in course_type:\n",
    "    page_number = 1\n",
    "    category_data = []  # 儲存單一分類的所有課程資料\n",
    "    \n",
    "    while True:\n",
    "        # 讀取檔案\n",
    "        folder = \"scraped_data\"\n",
    "        file_name = f\"{folder}/hahow_{category_name}_page{page_number}.csv\" \n",
    "\n",
    "        # 若檔案不存在，代表該分類已無更多頁面，接著進行下一個分類\n",
    "        if not os.path.exists(file_name):\n",
    "            print(f\"{category_name}第{page_number}頁資料不存在，進行下一個分類...\")\n",
    "            break\n",
    "\n",
    "        # 讀取該頁面資料\n",
    "        data = pd.read_csv(file_name, encoding=\"utf-8-sig\")\n",
    "        data.insert(0, \"分類\", category_name) # 增加分類欄\n",
    "        category_data.append(data)\n",
    "        print(f\"完成讀取:{file_name}\")\n",
    "\n",
    "        # 進行下一頁\n",
    "        page_number += 1\n",
    "\n",
    "    # 合併並儲存該類別所有資料\n",
    "    if category_data:\n",
    "        category_df = pd.concat(category_data, ignore_index=True)\n",
    "        filename = os.path.join(folder_name,f\"hahow_{category_name}_merged.csv\") \n",
    "        category_df.to_csv(filename, encoding=\"utf-8-sig\", index=False)\n",
    "        print(f\"輸出 hahow{category_name}合併.csv 完成\")\n",
    "\n",
    "print(\"全部分類皆合併完成!\")"
   ]
  },
  {
   "cell_type": "code",
   "execution_count": null,
   "id": "af686a2e-3d39-4126-9f4c-7b79cfa52d99",
   "metadata": {},
   "outputs": [],
   "source": []
  }
 ],
 "metadata": {
  "kernelspec": {
   "display_name": "Python 3 (ipykernel)",
   "language": "python",
   "name": "python3"
  },
  "language_info": {
   "codemirror_mode": {
    "name": "ipython",
    "version": 3
   },
   "file_extension": ".py",
   "mimetype": "text/x-python",
   "name": "python",
   "nbconvert_exporter": "python",
   "pygments_lexer": "ipython3",
   "version": "3.12.7"
  }
 },
 "nbformat": 4,
 "nbformat_minor": 5
}
