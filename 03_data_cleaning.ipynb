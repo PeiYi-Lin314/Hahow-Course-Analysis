{
 "cells": [
  {
   "attachments": {},
   "cell_type": "markdown",
   "id": "bb04c5b5-19ab-4226-8b40-eca6f2edd7a6",
   "metadata": {},
   "source": [
    "# Hahow 課程資料清理程式\n",
    "\n",
    "本程式共分為兩個部分：\n",
    "\n",
    "### **PART 1 | 分類資料清理**\n",
    "本部分會逐一讀取各分類的 CSV 檔案（來自 `merged_data\\` 資料夾），針對尚未結構化的「課程名稱」欄位進行拆解與清理。\n",
    "透過正則表示法（Regular Expression），從課程名稱中提取以下 7 個欄位資訊：\n",
    " - 課程名（不含後綴）\n",
    " - 講師\n",
    " - 評分\n",
    " - 評價數\n",
    " - 課程時長（統一轉換為「小時」）\n",
    " - 購買人數\n",
    " - 價錢\n",
    "\n",
    "此外，也會將數值欄位（如：時長、購買人數、價格）統一轉換為可分析的數值型態，並將課程連結補全為完整網址。\n",
    "\n",
    "✅ 清理後的每一分類資料，會儲存於資料夾：`cleaned_data\\` 中，檔名格式為 `📄 hahow_{分類名稱}_cleaned.csv`。\n",
    "\n",
    "##### **📌 原始資料範例（未清理前）：**\n",
    "\n",
    "課程名稱：限時優惠課程唱出你的特色！蔡佩軒的歌唱訓練課by蔡佩軒 Ariel4.9(32)7.5 小時2,382NT$6,300\n",
    " \n",
    "##### **🔍 清理後拆解結果：**\n",
    "\n",
    " - 課程名：唱出你的特色！蔡佩軒的歌唱訓練課  \n",
    " - 講師：蔡佩軒 Ariel  \n",
    " - 評分：4.9  \n",
    " - 評價數：32  \n",
    " - 課程時長：7.5   \n",
    " - 購買人數：2382  \n",
    " - 價錢：6300\n",
    "\n",
    "### **PART 2 | 合併清理後資料**\n",
    "當所有分類都完成清理後，程式會自動將 `cleaned_data\\` 中的檔案合併為一份總表：`📄 hahow_all_courses.csv`\n",
    "\n",
    "✅ 該檔案會儲存於資料夾：`total_data\\`，方便後續進行統一分析與視覺化處理（如：Power BI、Tableau 或 Python 繪圖）。\n"
   ]
  },
  {
   "cell_type": "markdown",
   "id": "59e5a650-5118-48e1-80ca-01f2b744c078",
   "metadata": {},
   "source": [
    "## **Part 1 分類資料清理**"
   ]
  },
  {
   "cell_type": "markdown",
   "id": "d618f34f-493b-42ae-97e8-ad15766092fb",
   "metadata": {},
   "source": [
    "#### 模組匯入區"
   ]
  },
  {
   "cell_type": "code",
   "execution_count": 7,
   "id": "4257a7a4-c2d4-4154-83e6-b6e793f2f34b",
   "metadata": {},
   "outputs": [],
   "source": [
    "import os\n",
    "import pandas as pd "
   ]
  },
  {
   "cell_type": "markdown",
   "id": "1ef0ed51-fe3f-43cb-a38b-3b30b472c0b9",
   "metadata": {},
   "source": [
    "#### 自定函數區 — 轉換型態 "
   ]
  },
  {
   "cell_type": "code",
   "execution_count": 8,
   "id": "35b394bd",
   "metadata": {},
   "outputs": [],
   "source": [
    "# 將各欄位資料轉換為正確的型態，去除空白並統一文字格式\n",
    "\n",
    "# 處理「評價數」欄位 - 去除「k」字並轉換成數字且乘以 1000（如人數數量 : 2k → 2000）\n",
    "def convert_review(value):\n",
    "    if pd.isna(value):\n",
    "        return 0\n",
    "    if isinstance(value, str) and \"k\" in value:\n",
    "        return float(value.replace(\"k\", \"\")) * 1000\n",
    "    else:\n",
    "        return float(value)\n",
    "\n",
    "# 處理「課程時長」欄位 - 去除「小時」或「分鐘」字，且換成「小時」單位 （如: 30分鐘 → 0.5 / 1小時 → 1）\n",
    "def convert_time(value):\n",
    "    if isinstance(value,str):\n",
    "        if \"分鐘\" in value:\n",
    "            return float(value.replace(\"分鐘\",\"\"))/60\n",
    "        else:\n",
    "            return float(value.replace(\"小時\",\"\"))\n",
    "    return None\n",
    "\n",
    "# 處理「價錢」欄位 - 去除空白且換成數值型態\n",
    "def convert_price(value):\n",
    "    if pd.isna(value):\n",
    "        return 0\n",
    "    else:\n",
    "        return float(value.replace(\",\", \"\"))\n",
    "\n",
    "# 處理「購買人數」欄位 - 去除空白且換成數值型態\n",
    "def convert_buyers(value):\n",
    "    if pd.isna(value):\n",
    "        return 0\n",
    "    else:\n",
    "        return float(value.replace(\",\", \"\"))"
   ]
  },
  {
   "cell_type": "markdown",
   "id": "e13a41f9-a48e-48cb-9467-1efbf127d889",
   "metadata": {},
   "source": [
    "#### 自定函數區 — 將課程名稱拆分多欄位"
   ]
  },
  {
   "cell_type": "code",
   "execution_count": 9,
   "id": "535f4112-fa1f-415e-8771-4f1aeb56b312",
   "metadata": {},
   "outputs": [],
   "source": [
    "# 利用正則將課程名拆分多欄位，再轉換各欄位的數值型態和文字格式\n",
    "\n",
    "def hahow_clean(data):\n",
    "    \n",
    "    # 拆分課程名稱\n",
    "    pattern1 = r\"課程(.+)by\"\n",
    "    data[\"課程\"] = data[\"課程名稱\"].str.extract(pattern1)\n",
    "\n",
    "    # 拆分講師\n",
    "    pattern2 = r\"by(.+?)(?=\\d)\"\n",
    "    data[\"講師\"] = data[\"課程名稱\"].str.extract(pattern2)\n",
    "\n",
    "    # 拆分評分\n",
    "    pattern3 = r\"(\\d+\\.\\d+)(?=\\()\" \n",
    "    data[\"評分\"] = data[\"課程名稱\"].str.extract(pattern3)\n",
    "    data[\"評分\"] = data[\"評分\"].fillna(0).astype(float)\n",
    "\n",
    "    # 拆分評價數\n",
    "    pattern4 = r\"\\((\\d+|\\d+\\.\\d+k)\\)\" \n",
    "    data[\"評價數\"] = data[\"課程名稱\"].str.extract(pattern4).iloc[:, 0].str.strip()\n",
    "    data[\"評價數\"] = data[\"評價數\"].apply(convert_review)\n",
    "\n",
    "    # 拆分課程時長\n",
    "    pattern5 = r\"((\\d+\\.\\d+|\\d+)\\s*(小時|分鐘))\"\n",
    "    extracted = data[\"課程名稱\"].str.extract(pattern5)\n",
    "    data[\"課程時長\"] = extracted[1] + extracted[2].str.strip()\n",
    "    data[\"課程時長\"] = data[\"課程時長\"].apply(convert_time).round(2)\n",
    "\n",
    "    # 拆分購買人數\n",
    "    pattern6 = r\"([\\d,]+)(?=\\s*NT|免費)\"\n",
    "    data[\"購買人數\"] = data[\"課程名稱\"].str.extract(pattern6).iloc[:, 0].str.strip()\n",
    "    data[\"購買人數\"] = data[\"購買人數\"].apply(convert_buyers)\n",
    "\n",
    "    # 拆分價錢\n",
    "    pattern7 = r\"NT\\$([\\d,]+)\"\n",
    "    data[\"價錢\"] = data[\"課程名稱\"].str.extract(pattern7).iloc[:, 0].str.strip()\n",
    "    data[\"價錢\"] = data[\"價錢\"].apply(convert_price)\n",
    "\n",
    "    # 補全連結\n",
    "    data[\"link\"] = \"https://hahow.in\" + data[\"link\"]"
   ]
  },
  {
   "cell_type": "markdown",
   "id": "9e2896c3-8bc7-4b10-b92d-6d50c8573ca2",
   "metadata": {},
   "source": [
    "#### 程式設定區"
   ]
  },
  {
   "cell_type": "code",
   "execution_count": 10,
   "id": "e8ad8f1b-f05a-459b-93e1-501bd5e7613e",
   "metadata": {},
   "outputs": [],
   "source": [
    "# 定義課程類別與對應網址代碼\n",
    "\n",
    "course_type = {\n",
    "    \"音樂\": \"music\",\n",
    "    \"語言\": \"language\",\n",
    "    \"攝影\": \"photography\",\n",
    "    \"藝術\": \"art\",\n",
    "    \"設計\": \"design\",\n",
    "    \"人文\": \"humanities\",\n",
    "    \"行銷\": \"marketing\",\n",
    "    \"程式\": \"programming\",\n",
    "    \"投資理財\": \"finance-and-investment\",\n",
    "    \"職場技能\": \"career-skills\",\n",
    "    \"手作\": \"handmade\",\n",
    "    \"生活品味\": \"lifestyle\"\n",
    "}"
   ]
  },
  {
   "cell_type": "markdown",
   "id": "b58f1bcf-ca3b-4c5b-a8ea-d7183a371a25",
   "metadata": {},
   "source": [
    "#### 清理主程式區"
   ]
  },
  {
   "cell_type": "code",
   "execution_count": 11,
   "id": "95cea43d-4589-4103-a8ff-b0b558bdd7a5",
   "metadata": {},
   "outputs": [
    {
     "name": "stdout",
     "output_type": "stream",
     "text": [
      "已建立cleaned_data資料夾\n",
      "手作 清理完成\n",
      "hahow_手作_cleaned.csv 輸出完成\n",
      "音樂 清理完成\n",
      "hahow_音樂_cleaned.csv 輸出完成\n",
      "攝影 清理完成\n",
      "hahow_攝影_cleaned.csv 輸出完成\n",
      "全部分類完成!!\n"
     ]
    }
   ],
   "source": [
    "# 建立資料夾\n",
    "folder_name = \"cleaned_data\"\n",
    "\n",
    "# 如果資料夾不存在就建立\n",
    "if not os.path.exists(folder_name):\n",
    "    os.makedirs(folder_name)\n",
    "    print(\"已建立cleaned_data資料夾\")\n",
    "\n",
    "# 逐一清理每個分類\n",
    "for category_name in course_type:\n",
    "    folder = \"merged_data\"\n",
    "    file_name = f\"{folder}/hahow_{category_name}_merged.csv\" \n",
    "    data = pd.read_csv(file_name, encoding=\"utf-8-sig\")\n",
    "\n",
    "    # 進行資料清理\n",
    "    hahow_clean(data)\n",
    "\n",
    "    # 重新安排欄位順序\n",
    "    columns = [\"分類\", \"熱門標籤\", \"課程\", \"講師\", \"評分\", \"評價數\", \"課程時長\", \"購買人數\", \"價錢\", \"link\", \"課程名稱\"]\n",
    "    data = data.reindex(columns=columns)\n",
    "\n",
    "    # 刪掉課程名稱欄位\n",
    "    data.drop(columns = [\"課程名稱\"],inplace=True)\n",
    "    \n",
    "    # 刪掉 NAN 資料列\n",
    "    data.dropna(inplace=True)\n",
    "    print(f\"{category_name} 清理完成\")\n",
    "    \n",
    "    # 輸出清理完的 CSV\n",
    "    filename = os.path.join(folder_name,f\"hahow_{category_name}_cleaned.csv\") \n",
    "    data.to_csv(filename, encoding=\"utf-8-sig\", index=False)\n",
    "    print(f\"hahow_{category_name}_cleaned.csv 輸出完成\")\n",
    "\n",
    "print(\"全部分類完成!!\")"
   ]
  },
  {
   "cell_type": "markdown",
   "id": "3d7c4284-5512-4698-b97a-e388faea1c07",
   "metadata": {},
   "source": [
    "## **Part 2 合併清理後資料**"
   ]
  },
  {
   "cell_type": "markdown",
   "id": "4d9ced77-6404-4840-9ad4-7e8ec01ae6c3",
   "metadata": {},
   "source": [
    "#### 程式設定區"
   ]
  },
  {
   "cell_type": "code",
   "execution_count": null,
   "id": "47697d7b-5c15-4f69-8377-bd68e5aefe54",
   "metadata": {},
   "outputs": [],
   "source": [
    "# 定義課程類別與對應網址代碼\n",
    "\n",
    "course_type = {\n",
    "    \"音樂\": \"music\", \n",
    "    \"語言\": \"language\",\n",
    "    \"攝影\": \"photography\", \n",
    "    \"藝術\": \"art\",\n",
    "    \"設計\": \"design\", \n",
    "    \"人文\": \"humanities\",\n",
    "    \"行銷\": \"marketing\",\n",
    "    \"程式\": \"programming\", \n",
    "    \"投資理財\": \"finance-and-investment\",\n",
    "    \"職場技能\": \"career-skills\", \n",
    "    \"手作\": \"handmade\",\n",
    "    \"生活品味\": \"lifestyle\"\n",
    "}"
   ]
  },
  {
   "cell_type": "markdown",
   "id": "900c0b10-7158-4608-8f62-43f7675cf7c7",
   "metadata": {},
   "source": [
    "#### 合併主程式區"
   ]
  },
  {
   "cell_type": "code",
   "execution_count": 12,
   "id": "73e2e246-7869-483f-8de6-1c6ca266bc2e",
   "metadata": {},
   "outputs": [
    {
     "name": "stdout",
     "output_type": "stream",
     "text": [
      "已建立total_data資料夾\n",
      "hahow_手作_cleaned.csv 讀取成功\n",
      "hahow_音樂_cleaned.csv 讀取成功\n",
      "hahow_攝影_cleaned.csv 讀取成功\n",
      "hahow_all_courses.csv 輸出完成\n"
     ]
    }
   ],
   "source": [
    "#將12個分類檔完整合併一個檔案\n",
    "import os\n",
    "import pandas as pd\n",
    "\n",
    "# 建立資料夾\n",
    "folder_name = \"total_data\"\n",
    "if not os.path.exists(folder_name):\n",
    "    os.makedirs(folder_name)\n",
    "    print(\"已建立total_data資料夾\")\n",
    "\n",
    "# 合併各分類清理資料\n",
    "all_data = [] #存放合併資料\n",
    "\n",
    "for category_name in course_type:\n",
    "    folder = \"cleaned_data\"\n",
    "    file_path = f\"{folder}/hahow_{category_name}_cleaned.csv\" \n",
    "\n",
    "    # 確認資料是否存在\n",
    "    if os.path.exists(file_path):\n",
    "        data = pd.read_csv(file_path,encoding=\"utf-8-sig\")\n",
    "        all_data.append(data) #資料存入\n",
    "        print(f\"hahow_{category_name}_cleaned.csv 讀取成功\")\n",
    "    else:\n",
    "        print(f\"找不到{file_path}，略過此分類\")\n",
    "\n",
    "\n",
    "\n",
    "# 匯出合併後的 CSV\n",
    "if all_data: # 確認有資料才做合併\n",
    "    all_data_df = pd.concat(all_data,ignore_index=True)\n",
    "    filename = os.path.join(folder_name,\"hahow_all_courses.csv\")\n",
    "    all_data_df.to_csv(filename,encoding=\"utf-8-sig\",index=False)\n",
    "    print(\"hahow_all_courses.csv 輸出完成\")\n",
    "else:\n",
    "    print(\"沒有可合併的資料\")   "
   ]
  }
 ],
 "metadata": {
  "kernelspec": {
   "display_name": "Python 3 (ipykernel)",
   "language": "python",
   "name": "python3"
  },
  "language_info": {
   "codemirror_mode": {
    "name": "ipython",
    "version": 3
   },
   "file_extension": ".py",
   "mimetype": "text/x-python",
   "name": "python",
   "nbconvert_exporter": "python",
   "pygments_lexer": "ipython3",
   "version": "3.12.7"
  }
 },
 "nbformat": 4,
 "nbformat_minor": 5
}
